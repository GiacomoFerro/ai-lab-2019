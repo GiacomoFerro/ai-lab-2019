{
 "cells": [
  {
   "cell_type": "markdown",
   "metadata": {},
   "source": [
    "# AI-LAB SESSION 4: Model-Based Reinforcement Learning\n",
    "\n",
    "In this tutorial we will see some additional functionalities available to OpenAI Gym environments\n",
    "\n",
    "## Cliff environment\n",
    "\n",
    "The environment used is **Cliff** (taken from the book of Sutton and Barto as visible in the figure)\n",
    "![CliffWalking](images/cliff.png)\n",
    "\n",
    "The agent starts in cell $(3, 0)$ and has to reach the goal in $(3, 11)$. Falling from the cliff resets the position to the start state (the episode ends only when the goal state is reached). All other cells are safe. Action dinamycs is deterministic, meaning that the agent always reaches the desired next state.\n",
    "\n",
    "## Assignment 1\n",
    "\n",
    "Your first assignment is to implement the *Model-Based* algorithm on **Cliff**. In particular, you have first to learn the model by making the agent move in the environment and then solve it via *Value Iteration*. The solution returned must be a tuple *(policy, rewards, lengths)* where:\n",
    "* *policy*: array of action identifiers where the $i$-th action refers to the $i$-th state\n",
    "* *rewards*: array of rewards where the $i$-th reward refers to the $i$-th episode of the training performed\n",
    "* *lengths*: array of lengths where the $i$-th length refers to the $i$-th episode of the training performed (length in number of steps)\n",
    "\n",
    "Functions to implement:\n",
    "* *model_based(environment, episodes, ep_limit, vmaxiters, gamma, delta)*"
   ]
  },
  {
   "cell_type": "code",
   "execution_count": 1,
   "metadata": {},
   "outputs": [],
   "source": [
    "import os\n",
    "import sys\n",
    "module_path = os.path.abspath(os.path.join('..'))\n",
    "if module_path not in sys.path:\n",
    "    sys.path.append(module_path)\n",
    "\n",
    "import gym\n",
    "import envs\n",
    "import numpy as np\n",
    "from utils.funcs import run_episode, plot, rolling\n",
    "from timeit import default_timer as timer"
   ]
  },
  {
   "cell_type": "markdown",
   "metadata": {},
   "source": [
    "In the next cell you can copy the code for *Value Iteration* that you implemented in session 3"
   ]
  },
  {
   "cell_type": "code",
   "execution_count": 2,
   "metadata": {},
   "outputs": [],
   "source": [
    "def value_iteration(environment, maxiters, gamma, delta):\n",
    "    \"\"\"\n",
    "    Performs the value iteration algorithm for a specific environment\n",
    "    \n",
    "    Args:\n",
    "        environment: OpenAI Gym environment\n",
    "        maxiters: max iterations allowed\n",
    "        gamma: gamma value\n",
    "        delta: delta value\n",
    "        \n",
    "    Returns:\n",
    "        policy: 1-d dimensional array of action identifiers where index `i` corresponds to state id `i`\n",
    "    \"\"\"\n",
    "    \n",
    "    q = np.zeros(environment.observation_space.n, dtype=\"int8\")  # Initial policy\n",
    "    v = np.zeros(environment.observation_space.n)  #len(S)\n",
    "    v_iter = 0\n",
    "\n",
    "    while True:\n",
    "        v_iter = v_iter + 1\n",
    "        Vp = v.copy()\n",
    "\n",
    "        q = (environment.T * (environment.R + gamma * Vp)).sum(axis=2)\n",
    "        v = np.max(q, axis=1)\n",
    "\n",
    "        if np.max((abs(v - Vp))) < delta or v_iter == maxiters:\n",
    "            p = np.argmax(q, axis=1)\n",
    "            return np.asarray(p)\n",
    "    "
   ]
  },
  {
   "cell_type": "markdown",
   "metadata": {},
   "source": [
    "The following function has to be implemented"
   ]
  },
  {
   "cell_type": "code",
   "execution_count": 3,
   "metadata": {},
   "outputs": [],
   "source": [
    "def model_based(environment, episodes, ep_limit, vmaxiters, gamma, delta):\n",
    "    \"\"\"\n",
    "    Performs the model-based algorithm for a specific environment\n",
    "    \n",
    "    Args:\n",
    "        environment: OpenAI Gym environment\n",
    "        episodes: number of episodes for training\n",
    "        ep_limit: limit to episode length\n",
    "        vmaxiters: max iterations allowed for VI\n",
    "        gamma: gamma value\n",
    "        delta: delta value\n",
    "        \n",
    "    Returns:\n",
    "        (policy, rewards, lengths): final policy, rewards for each episode [array], length of each episode [array]\n",
    "    \"\"\"\n",
    "    rewards = np.zeros(episodes)  # Rewards array\n",
    "    lengths = np.zeros(episodes)  # Lengths array\n",
    "    policy = np.random.choice(environment.action_space.n, environment.observation_space.n)  # Random initial policy\n",
    "    \n",
    "    N_STATI = environment.observation_space.n\n",
    "    N_AZIONI = environment.action_space.n\n",
    "    \n",
    "    T = np.zeros((N_STATI,N_AZIONI,N_STATI))\n",
    "    R = np.zeros((N_STATI,N_AZIONI,N_STATI))\n",
    "    \n",
    "    for e in range(episodes):\n",
    "        \n",
    "        s = environment.reset()\n",
    "        el = 0\n",
    "        rew = 0\n",
    "        lista_tuple = []\n",
    "        \n",
    "        for _ in range(ep_limit):\n",
    "            \n",
    "            sp, r, done, _ = environment.step(policy[s])  \n",
    "            R[s, policy[s], sp] = r\n",
    "\n",
    "            rew += r;\n",
    "            el += 1;\n",
    "            lista_tuple.append((s,policy[s],sp,r))\n",
    "            \n",
    "            if done or el == ep_limit:  \n",
    "                break;\n",
    "                \n",
    "            s = sp #update dello stato\n",
    "   \n",
    "\n",
    "        countNT = np.zeros((N_STATI,N_AZIONI,N_STATI))\n",
    "        countDT = np.zeros((N_STATI, N_AZIONI))\n",
    "\n",
    "        #stimo il modello di transizione\n",
    "        for tupla in lista_tuple:\n",
    "            \n",
    "            #leggo ogni tupla e procedo ai conteggi\n",
    "            s = tupla[0]\n",
    "            a = tupla[1]\n",
    "            s1 = tupla[2]\n",
    "            r = tupla[3]\n",
    "            \n",
    "            countNT[s, a, s1] = countNT[s, a, s1] + 1\n",
    "            countDT[s, a] = countDT[s, a] + 1\n",
    "           \n",
    "            if(countDT[s, a] != 0):\n",
    "                T[s, a, s1] = countNT[s, a, s1] / countDT[s, a];\n",
    "                \n",
    "        rewards[e] = rew\n",
    "        lengths[e] = el\n",
    "        environment.T = T\n",
    "        environment.R = R\n",
    "        policy = value_iteration(environment, vmaxiters, gamma, delta)\n",
    "    \n",
    "    \n",
    "    return policy, rewards, lengths"
   ]
  },
  {
   "cell_type": "markdown",
   "metadata": {},
   "source": [
    "The following code executes your implementation and prints the result"
   ]
  },
  {
   "cell_type": "code",
   "execution_count": 4,
   "metadata": {},
   "outputs": [
    {
     "name": "stdout",
     "output_type": "stream",
     "text": [
      "\n",
      "----------------------------------------------------------------\n",
      "\tEnvironment:  Cliff-v0\n",
      "----------------------------------------------------------------\n",
      "\n",
      "o  o  o  o  o  o  o  o  o  o  o  o\n",
      "o  o  o  o  o  o  o  o  o  o  o  o\n",
      "o  o  o  o  o  o  o  o  o  o  o  o\n",
      "x  C  C  C  C  C  C  C  C  C  C  T\n",
      "\n",
      "\n",
      "Execution time: 0.6372s\n",
      "Policy:\n",
      "[['R' 'R' 'R' 'R' 'R' 'R' 'R' 'R' 'R' 'R' 'R' 'D']\n",
      " ['U' 'U' 'U' 'U' 'U' 'U' 'U' 'U' 'U' 'U' 'U' 'U']\n",
      " ['R' 'R' 'R' 'R' 'R' 'R' 'R' 'R' 'R' 'R' 'R' 'D']\n",
      " ['U' 'U' 'U' 'U' 'U' 'U' 'U' 'U' 'U' 'U' 'U' 'U']]\n",
      "\n"
     ]
    }
   ],
   "source": [
    "envname = \"Cliff-v0\"\n",
    "\n",
    "print(\"\\n----------------------------------------------------------------\")\n",
    "print(\"\\tEnvironment: \", envname)\n",
    "print(\"----------------------------------------------------------------\\n\")\n",
    "\n",
    "env = gym.make(envname)\n",
    "env.render()\n",
    "print()\n",
    "\n",
    "# Learning parameters\n",
    "episodes = 500\n",
    "ep_limit = 50\n",
    "vmaxiters = 50\n",
    "gamma = .95\n",
    "delta = 1e-3\n",
    "\n",
    "t = timer()\n",
    "\n",
    "# Model-Based\n",
    "policy, rewards, lengths = model_based(env, episodes, ep_limit, vmaxiters, gamma, delta)\n",
    "print(\"Execution time: {0}s\\nPolicy:\\n{1}\\n\".format(round(timer() - t, 4), np.vectorize(env.actions.get)(policy.reshape(\n",
    "    env.shape))))\n",
    "_ = run_episode(env, policy, 20)"
   ]
  },
  {
   "cell_type": "markdown",
   "metadata": {},
   "source": [
    "Correct results for *Model-Based* reinforcement learning can be found [here](results/model_based_results.txt)\n",
    "\n",
    "The next piece of code plots the performance of the agent during learning. Notice that a better performance is obtained with higher rewards and shorter episode lengths (the sooner the agent reaches the goal the better)"
   ]
  },
  {
   "cell_type": "code",
   "execution_count": 17,
   "metadata": {
    "scrolled": true
   },
   "outputs": [
    {
     "data": {
      "image/png": "[encoded data removed]",
      "text/plain": [
       "<Figure size 936x432 with 1 Axes>"
      ]
     },
     "metadata": {
      "needs_background": "light"
     },
     "output_type": "display_data"
    },
    {
     "data": {
      "image/png": "[encoded data removed]",
      "text/plain": [
       "<Figure size 936x432 with 1 Axes>"
      ]
     },
     "metadata": {
      "needs_background": "light"
     },
     "output_type": "display_data"
    }
   ],
   "source": [
    "litres = np.arange(1, episodes + 1)  # Learning iteration values\n",
    "window = 10  # Rolling window\n",
    "rewards = rolling(rewards, window)\n",
    "lengths = rolling(lengths, window)\n",
    "plot([{\"x\": np.arange(1, len(rewards) + 1), \"y\": rewards, \"label\": \"Reward\"}], \"Episode Rewards\", \"Episodes\", \"Rewards\")\n",
    "plot([{\"x\": np.arange(1, len(lengths) + 1), \"y\": lengths, \"label\": \"Length\"}], \"Episode Lengths\", \"Episodes\", \"Lengths\")"
   ]
  },
  {
   "cell_type": "markdown",
   "metadata": {},
   "source": [
    "Correct results for the agent performance during learning can be found here below. Notice that since the charts could differ from yours: the important thing is the global trend.\n",
    "\n",
    "### Rewards\n",
    "![rewards](results/rewards.png)\n",
    "\n",
    "### Lengths\n",
    "![lengths](results/lengths.png)"
   ]
  }
 ],
 "metadata": {
  "kernelspec": {
   "display_name": "Python 3",
   "language": "python",
   "name": "python3"
  },
  "language_info": {
   "codemirror_mode": {
    "name": "ipython",
    "version": 3
   },
   "file_extension": ".py",
   "mimetype": "text/x-python",
   "name": "python",
   "nbconvert_exporter": "python",
   "pygments_lexer": "ipython3",
   "version": "3.7.1"
  }
 },
 "nbformat": 4,
 "nbformat_minor": 2
}
